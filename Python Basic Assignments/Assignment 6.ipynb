{
 "cells": [
  {
   "cell_type": "markdown",
   "id": "3bcf3c5d",
   "metadata": {},
   "source": [
    "## 1. What are escape characters, and how do you use them?\n"
   ]
  },
  {
   "cell_type": "markdown",
   "id": "eacd80c8",
   "metadata": {},
   "source": [
    "### Answer 1:\n",
    "\n",
    "Escape Characters are characters in string values that would be difficult or impossible to type into code. We can use the backslash character to escape a single character or symbol.\n",
    "\n",
    "Example: \\t, \\n"
   ]
  },
  {
   "cell_type": "markdown",
   "id": "cb28b18e",
   "metadata": {},
   "source": [
    "## 2. What do the escape characters n and t stand for?\n"
   ]
  },
  {
   "cell_type": "markdown",
   "id": "2f6d4803",
   "metadata": {},
   "source": [
    "### Answer 2:\n",
    "\n",
    "\\n is a newline, \\t is a tab"
   ]
  },
  {
   "cell_type": "markdown",
   "id": "29607c18",
   "metadata": {},
   "source": [
    "## 3. What is the way to include backslash characters in a string?\n"
   ]
  },
  {
   "cell_type": "markdown",
   "id": "20e6d7e0",
   "metadata": {},
   "source": [
    "### Answer 3:\n",
    "\n",
    "The \\ escape character will represent the backslash character in a string."
   ]
  },
  {
   "cell_type": "markdown",
   "id": "1831597a",
   "metadata": {},
   "source": [
    "## 4. The string \"Howl's Moving Castle\" is a correct value. Why isn't the single quote character in the word Howl's not escaped a problem?\n"
   ]
  },
  {
   "cell_type": "markdown",
   "id": "0fdf9966",
   "metadata": {},
   "source": [
    "### Answer 4:\n",
    "\n",
    "The string \"Howl's Moving Castle\" escaped the problem because it is wrapped inside double quotes. if its wrapped inside single quotes then we have to use escape character \\' to show single quote in the final output\n",
    "\n",
    "'Howl\\'s Moving Castle' --> 'Howl's Moving Castle'"
   ]
  },
  {
   "cell_type": "markdown",
   "id": "a9bbba77",
   "metadata": {},
   "source": [
    "## 5. How do you write a string of newlines if you don't want to use the n character?\n"
   ]
  },
  {
   "cell_type": "markdown",
   "id": "b9a5bb0e",
   "metadata": {},
   "source": [
    "### Answer 5:\n",
    "\n",
    "Multiline string allow you to use newlines in string without the \\n escape character\n",
    "\n",
    "Example:"
   ]
  },
  {
   "cell_type": "code",
   "execution_count": 3,
   "id": "9e49bdbc",
   "metadata": {},
   "outputs": [
    {
     "name": "stdout",
     "output_type": "stream",
     "text": [
      "iNeuron full stack\n",
      "Data Science Course\n"
     ]
    }
   ],
   "source": [
    "a = '''iNeuron full stack\n",
    "Data Science Course'''\n",
    "print(a)"
   ]
  },
  {
   "cell_type": "markdown",
   "id": "1eede25b",
   "metadata": {},
   "source": [
    "## 6. What are the values of the given expressions?\n"
   ]
  },
  {
   "cell_type": "markdown",
   "id": "7e70825a",
   "metadata": {},
   "source": [
    "'Hello, world!'[1]\n",
    "\n",
    "'Hello, world!'[0:5]\n",
    "\n",
    "'Hello, world!'[:5]\n",
    "\n",
    "'Hello, world!'[3:]\n",
    "\n"
   ]
  },
  {
   "cell_type": "markdown",
   "id": "cd60bfe9",
   "metadata": {},
   "source": [
    "### Answer 6:\n",
    "\n",
    "The values for the given expressions are:\n",
    "\n",
    "'Hello, world!'[1]   --  'e'\n",
    "\n",
    "'Hello, world!'[0:5]   --  'Hello'\n",
    "\n",
    "'Hello, world!'[:5]   --   'Hello'\n",
    "\n",
    "'Hello, world!'[3:]   --   'lo, world!'"
   ]
  },
  {
   "cell_type": "markdown",
   "id": "8f6335c7",
   "metadata": {},
   "source": [
    "## 7. What are the values of the following expressions?\n",
    "\n",
    "'Hello'.upper()\n",
    "\n",
    "'Hello'.upper().isupper()\n",
    "\n",
    "'Hello'.upper().lower()"
   ]
  },
  {
   "cell_type": "markdown",
   "id": "dfb7ed98",
   "metadata": {},
   "source": [
    "### Answer 7:\n",
    "\n",
    "The values for the given expressions are:\n",
    "\n",
    "'Hello'.upper() -- 'HELLO'\n",
    "\n",
    "'Hello'.upper().isupper() -- True\n",
    "\n",
    "'Hello'.upper().lower() -- 'hello'"
   ]
  },
  {
   "cell_type": "markdown",
   "id": "2b173afc",
   "metadata": {},
   "source": [
    "## 8. What are the values of the following expressions?\n",
    "\n",
    "'Remember, remember, the fifth of July.'.split()\n",
    "\n",
    "'-'.join('There can only one.'.split())\n"
   ]
  },
  {
   "cell_type": "markdown",
   "id": "95e55a31",
   "metadata": {},
   "source": [
    "### Answer 8:\n",
    "\n",
    "The values for the given expressions are:\n",
    "\n",
    "'Remember, remember, the fifith of July.'.split() --> ['Remember,', 'remember,', 'the', 'fifith', 'of', 'July.']\n",
    "\n",
    "'-'.join('There can only one'.split()) --> 'There-can-only-one'"
   ]
  },
  {
   "cell_type": "markdown",
   "id": "b924eb44",
   "metadata": {},
   "source": [
    "## 9. What are the methods for right-justifying, left-justifying, and centering a string?\n"
   ]
  },
  {
   "cell_type": "markdown",
   "id": "6163c0c9",
   "metadata": {},
   "source": [
    "### Answer 9:\n",
    "\n",
    "The methods are as follows:\n",
    "\n",
    "    1. Right justifying - rjust(),\n",
    "    2. Left Justifying - ljust(),\n",
    "    3. Centering a string - center()"
   ]
  },
  {
   "cell_type": "markdown",
   "id": "fd1c36a0",
   "metadata": {},
   "source": [
    "## 10. What is the best way to remove whitespace characters from the start or end?\n"
   ]
  },
  {
   "cell_type": "markdown",
   "id": "a0a49ee7",
   "metadata": {},
   "source": [
    "### Answer 10:\n",
    "\n",
    "The lstrip() and rstrip() ways remove whitesapce characters from the left and right ends of a string respectively"
   ]
  }
 ],
 "metadata": {
  "kernelspec": {
   "display_name": "Python 3 (ipykernel)",
   "language": "python",
   "name": "python3"
  },
  "language_info": {
   "codemirror_mode": {
    "name": "ipython",
    "version": 3
   },
   "file_extension": ".py",
   "mimetype": "text/x-python",
   "name": "python",
   "nbconvert_exporter": "python",
   "pygments_lexer": "ipython3",
   "version": "3.9.7"
  }
 },
 "nbformat": 4,
 "nbformat_minor": 5
}
