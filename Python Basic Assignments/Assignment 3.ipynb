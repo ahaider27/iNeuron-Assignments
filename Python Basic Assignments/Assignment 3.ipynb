{
 "cells": [
  {
   "cell_type": "markdown",
   "id": "2f11cdd0",
   "metadata": {},
   "source": [
    "## 1. Why are functions advantageous to have in your programs?\n"
   ]
  },
  {
   "cell_type": "markdown",
   "id": "783fa050",
   "metadata": {},
   "source": [
    "### Answer 1:\n",
    "\n",
    "Functions are advantageous as they reduce the need for duplicate codes, helping in making the program short, easy to read and update as well."
   ]
  },
  {
   "cell_type": "markdown",
   "id": "5ce218e7",
   "metadata": {},
   "source": [
    "## 2. When does the code in a function run: when it's specified or when it's called?\n"
   ]
  },
  {
   "cell_type": "markdown",
   "id": "7c00c24a",
   "metadata": {},
   "source": [
    "### Answer 2:\n",
    "\n",
    "When a function is called, it runs and not when it is specified."
   ]
  },
  {
   "cell_type": "markdown",
   "id": "8eb1f7e0",
   "metadata": {},
   "source": [
    "## 3. What statement creates a function?\n"
   ]
  },
  {
   "cell_type": "markdown",
   "id": "bbf8764d",
   "metadata": {},
   "source": [
    "### Answer 3:\n",
    "\n",
    "Function is created by the def statement.\n",
    "\n",
    "Syntax of Function-\n",
    "\n",
    "def function_name(parameters):\n",
    "\n",
    "\"\"\"doc string\"\"\"        \n",
    "\n",
    "-----function body-----\n",
    "\n",
    "return value"
   ]
  },
  {
   "cell_type": "markdown",
   "id": "c95e5e5a",
   "metadata": {},
   "source": [
    "## 4. What is the difference between a function and a function call?\n"
   ]
  },
  {
   "cell_type": "markdown",
   "id": "fb2fae03",
   "metadata": {},
   "source": [
    "### Answer 4:\n",
    "\n",
    "Function - It is defined as the procedure to achieve a particular result.\n",
    "\n",
    "Function Call - When a function is used in a program to do the assigned task, this process is called as function call."
   ]
  },
  {
   "cell_type": "markdown",
   "id": "66136e3e",
   "metadata": {},
   "source": [
    "## 5. How many global scopes are there in a Python program? How many local scopes?\n"
   ]
  },
  {
   "cell_type": "markdown",
   "id": "d68bdf76",
   "metadata": {},
   "source": [
    "### Answer 5:\n",
    "\n",
    "Python program has one global scope and one local scope which can be created whenever a function is called.\n",
    "\n"
   ]
  },
  {
   "cell_type": "markdown",
   "id": "d5bbddcd",
   "metadata": {},
   "source": [
    "## 6. What happens to variables in a local scope when the function call returns?\n"
   ]
  },
  {
   "cell_type": "markdown",
   "id": "af404775",
   "metadata": {},
   "source": [
    "### Answer 6:\n",
    "\n",
    "The local scope is destroyed and all variables contained in that are forgotten when the function call returns."
   ]
  },
  {
   "cell_type": "markdown",
   "id": "fda781a0",
   "metadata": {},
   "source": [
    "## 7. What is the concept of a return value? Is it possible to have a return value in an expression?\n"
   ]
  },
  {
   "cell_type": "markdown",
   "id": "b1f8952a",
   "metadata": {},
   "source": [
    "### Answer 7:\n",
    "\n",
    "A return value is the value which a function call evaluates to, it can also be used as a part of an expression."
   ]
  },
  {
   "cell_type": "markdown",
   "id": "b286c169",
   "metadata": {},
   "source": [
    "## 8. If a function does not have a return statement, what is the return value of a call to that function?\n"
   ]
  },
  {
   "cell_type": "markdown",
   "id": "2bedebbd",
   "metadata": {},
   "source": [
    "### Answer 8:\n",
    "\n",
    "When a function does not have a return statement, return value of call to that function is NONE.\n",
    "\n"
   ]
  },
  {
   "cell_type": "markdown",
   "id": "2c42883f",
   "metadata": {},
   "source": [
    "## 9. How do you make a function variable refer to the global variable?\n"
   ]
  },
  {
   "cell_type": "markdown",
   "id": "47b586e1",
   "metadata": {},
   "source": [
    "### Answer 9:\n",
    "\n",
    "Global Keyword are used to classify the varibles which are global. Global variable forces a variable in a function to refer to the global variable.\n",
    "\n"
   ]
  },
  {
   "cell_type": "markdown",
   "id": "ef85a441",
   "metadata": {},
   "source": [
    "## 10. What is the data type of None?\n"
   ]
  },
  {
   "cell_type": "markdown",
   "id": "66347d98",
   "metadata": {},
   "source": [
    "### Answer 10:\n",
    "\n",
    "NoneType is the data type of None."
   ]
  },
  {
   "cell_type": "markdown",
   "id": "9f790e39",
   "metadata": {},
   "source": [
    "## 11. What does the sentence import areallyourpetsnamederic do?\n"
   ]
  },
  {
   "cell_type": "markdown",
   "id": "e4e79f67",
   "metadata": {},
   "source": [
    "### Answer 11:\n",
    "\n",
    "The import statement imports a module with the name areallyourpetsnamederic."
   ]
  },
  {
   "cell_type": "markdown",
   "id": "fb71bee3",
   "metadata": {},
   "source": [
    "## 12. If you had a bacon() feature in a spam module, what would you call it after importing spam?\n"
   ]
  },
  {
   "cell_type": "markdown",
   "id": "5628fb51",
   "metadata": {},
   "source": [
    "### Answer 12:\n",
    "\n",
    "Having bacon() feature in a spam module would be called as spam.bacon() after importing spam."
   ]
  },
  {
   "cell_type": "markdown",
   "id": "4488e33e",
   "metadata": {},
   "source": [
    "## 13. What can you do to save a programme from crashing if it encounters an error?\n"
   ]
  },
  {
   "cell_type": "markdown",
   "id": "04d87e83",
   "metadata": {},
   "source": [
    "### Answer 13:\n",
    "\n",
    "To save a program from crashing if it encounters an error, place the line of code that is expected to cause an error and use except block to handle the error."
   ]
  },
  {
   "cell_type": "markdown",
   "id": "c1ccebab",
   "metadata": {},
   "source": [
    "## 14. What is the purpose of the try clause? What is the purpose of the except clause?\n"
   ]
  },
  {
   "cell_type": "markdown",
   "id": "7e44f2aa",
   "metadata": {},
   "source": [
    "### Answer 14:\n",
    "\n",
    "The purpose of the try clause is that it takes the\n",
    "\n",
    "The code that could potentially cause an error goes in the try clause. The code that executes if an error happens goes in the except clause."
   ]
  },
  {
   "cell_type": "code",
   "execution_count": null,
   "id": "54c2e117",
   "metadata": {},
   "outputs": [],
   "source": []
  }
 ],
 "metadata": {
  "kernelspec": {
   "display_name": "Python 3 (ipykernel)",
   "language": "python",
   "name": "python3"
  },
  "language_info": {
   "codemirror_mode": {
    "name": "ipython",
    "version": 3
   },
   "file_extension": ".py",
   "mimetype": "text/x-python",
   "name": "python",
   "nbconvert_exporter": "python",
   "pygments_lexer": "ipython3",
   "version": "3.9.7"
  }
 },
 "nbformat": 4,
 "nbformat_minor": 5
}
