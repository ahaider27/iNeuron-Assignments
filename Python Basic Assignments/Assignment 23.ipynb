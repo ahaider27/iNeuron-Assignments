{
 "cells": [
  {
   "cell_type": "markdown",
   "id": "5864c0b6",
   "metadata": {},
   "source": [
    "# 1. What is the result of the code, and why?\n",
    "\n",
    "    def func(a, b=6, c=8):\n",
    "\n",
    "print(a, b, c)\n",
    "\n",
    "    func(1, 2)"
   ]
  },
  {
   "cell_type": "markdown",
   "id": "a55d6512",
   "metadata": {},
   "source": [
    "_Answer 1:_\n",
    "\n",
    "The result of the above code is 1 2 8 because the function uses the default value of c ie 8 which is provided at the time of declaration."
   ]
  },
  {
   "cell_type": "code",
   "execution_count": 1,
   "id": "703a57b2",
   "metadata": {},
   "outputs": [
    {
     "name": "stdout",
     "output_type": "stream",
     "text": [
      "1 2 8\n"
     ]
    }
   ],
   "source": [
    "def func(a,b=6,c=8):\n",
    "    print(a,b,c)\n",
    "func(1,2)"
   ]
  },
  {
   "cell_type": "markdown",
   "id": "4902de71",
   "metadata": {},
   "source": [
    "# 2. What is the result of this code, and why?\n",
    "\n",
    "    def func(a, b, c=5):\n",
    "\n",
    "print(a, b, c)\n",
    "\n",
    "    func(1, c=3, b=2)\n"
   ]
  },
  {
   "cell_type": "markdown",
   "id": "a34f3a75",
   "metadata": {},
   "source": [
    "_Answer 2:_\n",
    "\n",
    "The result of the above code is 1 2 3 because the function will use default values only when a value for a argument is not provided. If argument name would have been mentioned while doing a function call, the order of arguments would have also been ignored by the python interpreter."
   ]
  },
  {
   "cell_type": "code",
   "execution_count": 2,
   "id": "5e8cb502",
   "metadata": {},
   "outputs": [
    {
     "name": "stdout",
     "output_type": "stream",
     "text": [
      "1 2 3\n"
     ]
    }
   ],
   "source": [
    "def func(a, b, c=5):\n",
    "    print(a, b, c)\n",
    "func(1, c=3, b=2)"
   ]
  },
  {
   "cell_type": "markdown",
   "id": "e5c0b86a",
   "metadata": {},
   "source": [
    "# 3. How about this code: what is its result, and why?\n",
    "\n",
    "    def func(a, *pargs):\n",
    "\n",
    "print(a, pargs)\n",
    "    \n",
    "    func(1, 2, 3)"
   ]
  },
  {
   "cell_type": "markdown",
   "id": "b5a111bd",
   "metadata": {},
   "source": [
    "_Answer 3:_\n",
    "\n",
    "The result of the code is 1 (2,3). *pargs stands for variable length arguments. This format is used when we are not sure about the number of arguments to be passed to a function. All the values under this argument will be stored in a tuple."
   ]
  },
  {
   "cell_type": "code",
   "execution_count": 3,
   "id": "dc29c0ae",
   "metadata": {},
   "outputs": [
    {
     "name": "stdout",
     "output_type": "stream",
     "text": [
      "1 (2, 3)\n"
     ]
    }
   ],
   "source": [
    "def func(a, *pargs):\n",
    "    print(a,pargs)\n",
    "func(1,2,3)"
   ]
  },
  {
   "cell_type": "markdown",
   "id": "26d7e99b",
   "metadata": {},
   "source": [
    "# 4. What does this code print, and why?\n",
    "\n",
    "    def func(a, **kargs):\n",
    "\n",
    "print(a, kargs)\n",
    "    \n",
    "    func(a=1, c=3, b=2)"
   ]
  },
  {
   "cell_type": "markdown",
   "id": "e3169f31",
   "metadata": {},
   "source": [
    "_Answer 4:_\n",
    "\n",
    "The result of the above code is 1 {'c': 3, 'b': 2}. **args stands for variable length keyword arguments. This format is used when we want pass key value pairs as input to a function. All these key value pairs will be stored in a dictionary."
   ]
  },
  {
   "cell_type": "code",
   "execution_count": 4,
   "id": "811324f9",
   "metadata": {},
   "outputs": [
    {
     "name": "stdout",
     "output_type": "stream",
     "text": [
      "1 {'c': 3, 'b': 2}\n"
     ]
    }
   ],
   "source": [
    "def func(a,**kargs):\n",
    "    print(a,kargs)\n",
    "func(a=1,c=3,b=2)"
   ]
  },
  {
   "cell_type": "markdown",
   "id": "8b4a5701",
   "metadata": {},
   "source": [
    "# 5. What gets printed by this, and explain?\n",
    "\n",
    "    def func(a, b, c=8, d=5): print(a, b, c, d)\n",
    "    func(1, *(5, 6))\n"
   ]
  },
  {
   "cell_type": "markdown",
   "id": "c6e9a6d1",
   "metadata": {},
   "source": [
    "_Answer 5:_\n",
    "\n",
    "The output of the above is 1 5 6 5. This reason for this function not throwing an error is because, this function expects 4 arguments. The value for a is provided explicitly whereas for arguments b and c, the function will expand the *(5,6) and consider the value of b as 5 and value of c as 6. since the default value of d is provided in function declaration d value will be 5. However, it is recommended to use the feature of positional arguments at the end."
   ]
  },
  {
   "cell_type": "code",
   "execution_count": 5,
   "id": "00230740",
   "metadata": {},
   "outputs": [
    {
     "name": "stdout",
     "output_type": "stream",
     "text": [
      "1 5 6 5\n"
     ]
    }
   ],
   "source": [
    "def func(a,b,c=8,d=5):\n",
    "    print(a,b,c,d)\n",
    "func(1,*(5,6))"
   ]
  },
  {
   "cell_type": "markdown",
   "id": "fa33a7c9",
   "metadata": {},
   "source": [
    "# 6. what is the result of this, and explain?\n",
    "\n",
    "    def func(a, b, c): a = 2; b[0] = 'x'; c['a'] = 'y'\n",
    "    \n",
    "    l=1; m=[1]; n={'a':0}\n",
    "    \n",
    "    func(l, m, n)\n",
    "    \n",
    "    l, m, n\n"
   ]
  },
  {
   "cell_type": "markdown",
   "id": "7ec950cb",
   "metadata": {},
   "source": [
    "_Answer 6:_\n",
    "\n",
    "The output of above code is 1, ['x'], {'a': 'y'}.\n",
    "\n",
    "Even though Python gives importance to indentation. its provides a facility to declare an entire function in one single line, where statements in a function body are sepereated by ;\n",
    "When l,m,n are provided as inputs to the function. its modifies the values of l,m,n and sets the value of l=2 ,m=['x'] and n={'a':'y'}."
   ]
  },
  {
   "cell_type": "code",
   "execution_count": 6,
   "id": "2c0ca67a",
   "metadata": {},
   "outputs": [
    {
     "data": {
      "text/plain": [
       "(1, ['x'], {'a': 'y'})"
      ]
     },
     "execution_count": 6,
     "metadata": {},
     "output_type": "execute_result"
    }
   ],
   "source": [
    "def func(a, b, c): a = 2; b[0] = 'x'; c['a'] = 'y'\n",
    "l=1; m=[1]; n={'a':0}\n",
    "func(l, m, n)\n",
    "l,m,n"
   ]
  }
 ],
 "metadata": {
  "kernelspec": {
   "display_name": "Python 3",
   "language": "python",
   "name": "python3"
  },
  "language_info": {
   "codemirror_mode": {
    "name": "ipython",
    "version": 3
   },
   "file_extension": ".py",
   "mimetype": "text/x-python",
   "name": "python",
   "nbconvert_exporter": "python",
   "pygments_lexer": "ipython3",
   "version": "3.8.8"
  }
 },
 "nbformat": 4,
 "nbformat_minor": 5
}
