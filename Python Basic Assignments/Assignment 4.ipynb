{
 "cells": [
  {
   "cell_type": "markdown",
   "id": "56821cf4",
   "metadata": {},
   "source": [
    "## 1. What exactly is []?"
   ]
  },
  {
   "cell_type": "markdown",
   "id": "289b7386",
   "metadata": {},
   "source": [
    "### Answer 1:\n",
    "\n",
    "[] represents empty list which does not contain any item.\n",
    "\n"
   ]
  },
  {
   "cell_type": "markdown",
   "id": "ceaaaff1",
   "metadata": {},
   "source": [
    "## 2. In a list of values stored in a variable called spam, how would you assign the value 'hello' as the third value? (Assume [2, 4, 6, 8, 10] are in spam.)\n"
   ]
  },
  {
   "cell_type": "markdown",
   "id": "d035054c",
   "metadata": {},
   "source": [
    "### Answer 2:\n",
    "\n",
    "spam[2]='hello' Example is given below-"
   ]
  },
  {
   "cell_type": "code",
   "execution_count": 2,
   "id": "3e301a22",
   "metadata": {},
   "outputs": [
    {
     "name": "stdout",
     "output_type": "stream",
     "text": [
      "[2, 4, 6, 8, 10]\n",
      "[2, 4, 'hello', 8, 10]\n"
     ]
    }
   ],
   "source": [
    "spam=[2,4,6,8,10]\n",
    "print(spam)\n",
    "spam[2]='hello' #Zero based indexing is used in the list\n",
    "print(spam)"
   ]
  },
  {
   "cell_type": "markdown",
   "id": "73ba4a0c",
   "metadata": {},
   "source": [
    "## Let's pretend the spam includes the list ['a', 'b', 'c', 'd'] for the next three queries.\n",
    "## 3. What is the value of spam[int(int('3' * 2) / 11)]?"
   ]
  },
  {
   "cell_type": "markdown",
   "id": "b7cac089",
   "metadata": {},
   "source": [
    "### Answer 3:"
   ]
  },
  {
   "cell_type": "code",
   "execution_count": 3,
   "id": "499fa89b",
   "metadata": {},
   "outputs": [
    {
     "name": "stdout",
     "output_type": "stream",
     "text": [
      "spam[int(int('3'*2)//11)] -> d\n"
     ]
    }
   ],
   "source": [
    "spam=['a','b','c','d']\n",
    "print(\"spam[int(int('3'*2)//11)] ->\",spam[int(int('3'*2)//11)])"
   ]
  },
  {
   "cell_type": "markdown",
   "id": "747812e5",
   "metadata": {},
   "source": [
    "## 4. What is the value of spam[-1]?\n"
   ]
  },
  {
   "cell_type": "markdown",
   "id": "c3b3fa0f",
   "metadata": {},
   "source": [
    "### Answer 4:\n",
    "\n"
   ]
  },
  {
   "cell_type": "code",
   "execution_count": 4,
   "id": "f6441a84",
   "metadata": {},
   "outputs": [
    {
     "name": "stdout",
     "output_type": "stream",
     "text": [
      "spam[-1] ->  d\n"
     ]
    }
   ],
   "source": [
    "spam=['a','b','c','d']\n",
    "print('spam[-1] -> ',spam[-1])"
   ]
  },
  {
   "cell_type": "markdown",
   "id": "e31a8d89",
   "metadata": {},
   "source": [
    "## 5. What is the value of spam[:2]?\n"
   ]
  },
  {
   "cell_type": "markdown",
   "id": "dce0205f",
   "metadata": {},
   "source": [
    "### Answer 5:\n",
    "\n"
   ]
  },
  {
   "cell_type": "code",
   "execution_count": 5,
   "id": "467f338f",
   "metadata": {},
   "outputs": [
    {
     "name": "stdout",
     "output_type": "stream",
     "text": [
      "['a', 'b', 'c', 'd']\n",
      "['a', 'b']\n"
     ]
    }
   ],
   "source": [
    "spam=['a','b','c','d']\n",
    "print(spam)\n",
    "print(spam[:2])"
   ]
  },
  {
   "cell_type": "markdown",
   "id": "461706b2",
   "metadata": {},
   "source": [
    "## Let's pretend bacon has the list [3.14, 'cat,' 11, 'cat,' True] for the next three questions.\n",
    "## 6. What is the value of bacon.index('cat')?\n"
   ]
  },
  {
   "cell_type": "markdown",
   "id": "bd115e6b",
   "metadata": {},
   "source": [
    "### Answer 6:\n",
    "\n"
   ]
  },
  {
   "cell_type": "code",
   "execution_count": 6,
   "id": "4142ae2e",
   "metadata": {},
   "outputs": [
    {
     "name": "stdout",
     "output_type": "stream",
     "text": [
      "bacon.index('cat') -> 1\n"
     ]
    }
   ],
   "source": [
    "bacon = [3.14, 'cat', 11, 'cat', True]\n",
    "print(\"bacon.index('cat') ->\",bacon.index('cat'))\n"
   ]
  },
  {
   "cell_type": "markdown",
   "id": "90fbc007",
   "metadata": {},
   "source": [
    "## 7. How does bacon.append(99) change the look of the list value in bacon?\n"
   ]
  },
  {
   "cell_type": "markdown",
   "id": "77b09d96",
   "metadata": {},
   "source": [
    "### Answer 7:\n",
    "\n"
   ]
  },
  {
   "cell_type": "code",
   "execution_count": 7,
   "id": "caf415e8",
   "metadata": {},
   "outputs": [
    {
     "name": "stdout",
     "output_type": "stream",
     "text": [
      "[3.14, 'cat', 11, 'cat', True]\n",
      "[3.14, 'cat', 11, 'cat', True, 99]\n"
     ]
    }
   ],
   "source": [
    "bacon = [3.14, 'cat', 11, 'cat', True]\n",
    "print(bacon)\n",
    "bacon.append(99) # appends 99 to be added at the end of the list\n",
    "print(bacon)"
   ]
  },
  {
   "cell_type": "markdown",
   "id": "a4e8cf98",
   "metadata": {},
   "source": [
    "## 8. How does bacon.remove('cat') change the look of the list in bacon?\n"
   ]
  },
  {
   "cell_type": "markdown",
   "id": "c08c7b2b",
   "metadata": {},
   "source": [
    "### Answer 8:\n",
    "\n"
   ]
  },
  {
   "cell_type": "code",
   "execution_count": 8,
   "id": "1b2268a1",
   "metadata": {},
   "outputs": [
    {
     "name": "stdout",
     "output_type": "stream",
     "text": [
      "[3.14, 'cat', 11, 'cat', True]\n",
      "[3.14, 11, 'cat', True]\n"
     ]
    }
   ],
   "source": [
    "bacon = [3.14, 'cat', 11, 'cat', True]\n",
    "print(bacon)\n",
    "bacon.remove('cat') #removes the first occurence of the element, here 'cat'\n",
    "print(bacon)"
   ]
  },
  {
   "cell_type": "markdown",
   "id": "74b26d8c",
   "metadata": {},
   "source": [
    "## 9. What are the list concatenation and list replication operators?\n"
   ]
  },
  {
   "cell_type": "markdown",
   "id": "d4fd1937",
   "metadata": {},
   "source": [
    "### Answer 9:\n",
    "\n"
   ]
  },
  {
   "cell_type": "markdown",
   "id": "4fc8cc23",
   "metadata": {},
   "source": [
    "The operator for list concatenation is + and the operator for replication is *. This holds the same for string as well. Example is given below:\n",
    "\n"
   ]
  },
  {
   "cell_type": "code",
   "execution_count": 9,
   "id": "8c033144",
   "metadata": {},
   "outputs": [
    {
     "name": "stdout",
     "output_type": "stream",
     "text": [
      "['AB', 'CD', 'EF', 'GH', 'IJK', 'XYZ', 'PQR', 'SUV']\n",
      "['XYZ', 'PQR', 'SUV', 'XYZ', 'PQR', 'SUV']\n"
     ]
    }
   ],
   "source": [
    "list_1 = ['AB','CD','EF','GH','IJK']\n",
    "list_2 = ['XYZ','PQR','SUV']\n",
    "print(list_1 + list_2) # List Concatenation (+)\n",
    "print(list_2*2) # List Replication (*)"
   ]
  },
  {
   "cell_type": "markdown",
   "id": "77724944",
   "metadata": {},
   "source": [
    "## 10. What is difference between the list methods append() and insert()?\n"
   ]
  },
  {
   "cell_type": "markdown",
   "id": "92ec78a5",
   "metadata": {},
   "source": [
    "### Answer 10:\n",
    "\n",
    "While append() will add values only to the end of a list, insert() can add them anywhere in the list. Example is given below:"
   ]
  },
  {
   "cell_type": "code",
   "execution_count": 10,
   "id": "01cb02d9",
   "metadata": {},
   "outputs": [
    {
     "name": "stdout",
     "output_type": "stream",
     "text": [
      "[1, 2, 3, 4, 5, 6]\n",
      "[1, 2, 'Example', 3, 4, 5, 6]\n"
     ]
    }
   ],
   "source": [
    "list = [1,2,3,4,5]\n",
    "list.append(6)\n",
    "print(list)\n",
    "list.insert(2,'Example')\n",
    "print(list)"
   ]
  },
  {
   "cell_type": "markdown",
   "id": "8dd23f30",
   "metadata": {},
   "source": [
    "## 11. What are the two methods for removing items from a list?\n"
   ]
  },
  {
   "cell_type": "markdown",
   "id": "ed04b726",
   "metadata": {},
   "source": [
    "### Answer 11:\n",
    "\n",
    "Two methods for removing the items from a list are:\n",
    "\n",
    "a) del statement\n",
    "\n",
    "b) remove() method\n",
    "\n"
   ]
  },
  {
   "cell_type": "markdown",
   "id": "19218d86",
   "metadata": {},
   "source": [
    "## 12. Describe how list values and string values are identical.\n"
   ]
  },
  {
   "cell_type": "markdown",
   "id": "333ef9c4",
   "metadata": {},
   "source": [
    "### Answer 12:\n",
    "\n",
    "List values and string values are identical because-\n",
    "\n",
    "    a) they can be passed to len() function\n",
    "\n",
    "    b) have indexes and slices\n",
    "\n",
    "    c) can be used for loops\n",
    "\n",
    "    d) can be concatenated or replicated\n",
    "\n",
    "    e) can be used with or without the operators"
   ]
  },
  {
   "cell_type": "markdown",
   "id": "4d3c96e0",
   "metadata": {},
   "source": [
    "## 13. What's the difference between tuples and lists?\n"
   ]
  },
  {
   "cell_type": "markdown",
   "id": "e0260288",
   "metadata": {},
   "source": [
    "### Answer 13:\n",
    "\n",
    "Lists - They are Mutable, Indexable and Slicable. They can have values added, removed, or changed.\n",
    "\n",
    "Tuples - They are Immutable but Indexable and Slicable. Their values cannot be changed at all and can also be represented using parentheses, (), while lists use the square brackets, []."
   ]
  },
  {
   "cell_type": "markdown",
   "id": "4bb1921b",
   "metadata": {},
   "source": [
    "## 14. How do you type a tuple value that only contains the integer 42?\n"
   ]
  },
  {
   "cell_type": "markdown",
   "id": "c384bdaf",
   "metadata": {},
   "source": [
    "### Answer 14:\n",
    "\n",
    "(42,) (The trailing comma is mandatory, otherwise it would be considered as an int by python Interpreter)\n",
    "\n"
   ]
  },
  {
   "cell_type": "code",
   "execution_count": 11,
   "id": "f1469319",
   "metadata": {},
   "outputs": [
    {
     "name": "stdout",
     "output_type": "stream",
     "text": [
      "<class 'int'>\n",
      "<class 'tuple'>\n"
     ]
    }
   ],
   "source": [
    "tup1=(42)\n",
    "tup2=(42,)\n",
    "print(type(tup1))\n",
    "print(type(tup2))"
   ]
  },
  {
   "cell_type": "markdown",
   "id": "6e0afa5f",
   "metadata": {},
   "source": [
    "## 15. How do you get a list value's tuple form? How do you get a tuple value's list form?\n"
   ]
  },
  {
   "cell_type": "markdown",
   "id": "2ace75e9",
   "metadata": {},
   "source": [
    "### Answer 15:\n",
    "\n",
    "The tuple() and list() functions, respectively are used to convert a list to tuple and vice versa."
   ]
  },
  {
   "cell_type": "markdown",
   "id": "9d9ff73e",
   "metadata": {},
   "source": [
    "## 16. Variables that \"contain\" list values are not necessarily lists themselves. Instead, what do they contain?\n"
   ]
  },
  {
   "cell_type": "markdown",
   "id": "48ec1f42",
   "metadata": {},
   "source": [
    "### Answer 16:\n",
    "\n",
    "They \"contain\" references to list values."
   ]
  },
  {
   "cell_type": "markdown",
   "id": "5d6e9d67",
   "metadata": {},
   "source": [
    "## 17. How do you distinguish between copy.copy() and copy.deepcopy()?\n"
   ]
  },
  {
   "cell_type": "markdown",
   "id": "23bd59c3",
   "metadata": {},
   "source": [
    "### Answer 17:\n",
    "\n",
    "The copy.copy() function will do a shallow copy of a list, while the copy.deepcopy() function will do a deep copy of a list. This mean only copy.deepcopy() will duplicate any lists inside the list."
   ]
  }
 ],
 "metadata": {
  "kernelspec": {
   "display_name": "Python 3 (ipykernel)",
   "language": "python",
   "name": "python3"
  },
  "language_info": {
   "codemirror_mode": {
    "name": "ipython",
    "version": 3
   },
   "file_extension": ".py",
   "mimetype": "text/x-python",
   "name": "python",
   "nbconvert_exporter": "python",
   "pygments_lexer": "ipython3",
   "version": "3.9.7"
  }
 },
 "nbformat": 4,
 "nbformat_minor": 5
}
