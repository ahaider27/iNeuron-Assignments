{
 "cells": [
  {
   "cell_type": "markdown",
   "id": "b736d55f",
   "metadata": {},
   "source": [
    "## 1. To what does a relative path refer?\n"
   ]
  },
  {
   "cell_type": "markdown",
   "id": "0b8ccf1c",
   "metadata": {},
   "source": [
    "### Answer 1:\n",
    "\n",
    "The relative path refers to the path to some file with respect to your current working directory (PWD).\n",
    "\n",
    "For example: if Absolute path to a file called cartoon.txt is: C:/users/admin/docs/cartoon.txt If my PWD is C:/users/admin/ , then the relative path to stuff.txt would be: docs/stuff.txt Note: PWD + relative path = absolute path"
   ]
  },
  {
   "cell_type": "markdown",
   "id": "86774bf8",
   "metadata": {},
   "source": [
    "## 2. What does an absolute path start with your operating system?\n"
   ]
  },
  {
   "cell_type": "markdown",
   "id": "a9fd0e64",
   "metadata": {},
   "source": [
    "### Answer 2:\n",
    "\n",
    "In Linux based systems the absolute path starts with /. Where as in Windows based systems absolute path starts with C:\n",
    "\n"
   ]
  },
  {
   "cell_type": "markdown",
   "id": "6893c60c",
   "metadata": {},
   "source": [
    "## 3. What do the functions os.getcwd() and os.chdir() do?\n"
   ]
  },
  {
   "cell_type": "markdown",
   "id": "8f8ad607",
   "metadata": {},
   "source": [
    "### Answer 3:\n",
    "\n",
    "os.getcwd() method tells us the location of current working directory (CWD). Whereas os.chdir() method in Python used to change the current working directory to specified path. These functions are similar to linux commands pwd and cd."
   ]
  },
  {
   "cell_type": "code",
   "execution_count": 3,
   "id": "ec41db38",
   "metadata": {},
   "outputs": [],
   "source": [
    "import os"
   ]
  },
  {
   "cell_type": "code",
   "execution_count": 5,
   "id": "8f2cd5e7",
   "metadata": {},
   "outputs": [
    {
     "name": "stdout",
     "output_type": "stream",
     "text": [
      "C:\\Users\\Phoenix\\iNeuron Assignments\\Python Basic Assignments\n",
      "C:\\Users\\Phoenix\\iNeuron Assignments\n"
     ]
    }
   ],
   "source": [
    "print(os.getcwd()) # Prints the current Working Directory\n",
    "path = r'C:\\Users\\Phoenix\\iNeuron Assignments'\n",
    "os.chdir(path)\n",
    "print(os.getcwd())"
   ]
  },
  {
   "cell_type": "markdown",
   "id": "8ca7d791",
   "metadata": {},
   "source": [
    "## 4. What are the . and .. folders?\n"
   ]
  },
  {
   "cell_type": "markdown",
   "id": "23344aad",
   "metadata": {},
   "source": [
    "### Answer 4:\n",
    "\n",
    ". Represents the Current Directory Whereas .. Represents the Parent Directory of the Current Directory\n",
    "\n",
    "For Example: if the below path is my absolute path: C:\\Users\\Fairy\\iNeuron Assignments\\Python Basic Assignment Then . represents the path C:\\Users\\Fairy\\iNeuron Assignments\\Python Basic Assignment Where as .. represents the path C:\\Users\\Fairy\\iNeuron Assignments"
   ]
  },
  {
   "cell_type": "markdown",
   "id": "9354619f",
   "metadata": {},
   "source": [
    "## 5. In C:\\bacon\\eggs\\spam.txt, which part is the dir name, and which part is the base name?\n"
   ]
  },
  {
   "cell_type": "markdown",
   "id": "db569611",
   "metadata": {},
   "source": [
    "### Answer 5:\n",
    "\n",
    "For C:\\bacon\\eggs\\spam.txt The dir name is C:\\bacon\\eggs The Base name is spam.txt"
   ]
  },
  {
   "cell_type": "code",
   "execution_count": 6,
   "id": "f6cb3d0d",
   "metadata": {},
   "outputs": [
    {
     "name": "stdout",
     "output_type": "stream",
     "text": [
      "C:\\bacon\\eggs\n",
      "spam.txt\n"
     ]
    }
   ],
   "source": [
    "import os\n",
    "path = r'C:\\bacon\\eggs\\spam.txt'\n",
    "print(os.path.dirname(path))\n",
    "print(os.path.basename(path))"
   ]
  },
  {
   "cell_type": "markdown",
   "id": "08d152d6",
   "metadata": {},
   "source": [
    "## 6. What are the three “mode” arguments that can be passed to the open() function?\n"
   ]
  },
  {
   "cell_type": "markdown",
   "id": "cd4d69df",
   "metadata": {},
   "source": [
    "### Answer 6:\n",
    "\n",
    "A file can be accessed in python using open() function. Open function takes two arguments, i.e, (a) filename and (b) mode of operation (optional). If mode is not provided the default mode of opening is read mode.\n",
    "\n",
    "So, the syntax being: open(filename, mode)\n",
    "\n",
    "• ‘r’ – Read Mode: This is the default mode for open(). The file is opened and a pointer is positioned at the beginning of the file’s content.\n",
    "\n",
    "• ‘w’ – Write Mode: Using this mode will overwrite any existing content in a file. If the given file does not exist, a new one will be created.\n",
    "\n",
    "• ‘r+’ – Read/Write Mode: Use this mode if you need to simultaneously read and write to a file.\n",
    "\n",
    "• ‘a’ – Append Mode: With this mode the user can append the data without overwriting any already existing data in the file.\n",
    "\n",
    "• ‘a+’ – Append and Read Mode: In this mode you can read and append the data without overwriting the original file.\n",
    "\n",
    "• ‘x’ – Exclusive Creating Mode: This mode is for the sole purpose of creating new files. Use this mode if you know the file to be written doesn’t exist beforehand."
   ]
  },
  {
   "cell_type": "markdown",
   "id": "bee7c353",
   "metadata": {},
   "source": [
    "## 7. What happens if an existing file is opened in write mode?\n"
   ]
  },
  {
   "cell_type": "markdown",
   "id": "cce5dda3",
   "metadata": {},
   "source": [
    "### Answer 7:\n",
    "\n",
    "Using this mode will overwrite any existing content in a file. If the given file does not exist, a new one will be created."
   ]
  },
  {
   "cell_type": "markdown",
   "id": "eb6be818",
   "metadata": {},
   "source": [
    "## 8. How do you tell the difference between read() and readlines()?"
   ]
  },
  {
   "cell_type": "markdown",
   "id": "070fe2cf",
   "metadata": {},
   "source": [
    "### Answer 8:\n",
    "\n",
    "The main difference between read() and readlines() is given below:\n",
    "\n",
    "• read() will read the whole file at once and then print out the first characters that take up as many bytes as you specify in the parenthesis. Whereas the readline() that will read and print out only the first characters that take up as many bytes as you specify in the parenthesis. You may want to use readline() when you're reading files that are too big for your RAM.\n",
    "\n",
    "• The read() would treat each character in the file separately, meaning that the iteration would happen for every character.\n",
    "\n",
    "• The readline() function, on the other hand, only reads a single line of the file. This means that if the first line of the file were three lines long, the readline() function would only parse (or iterate/operate) on the first line of the file."
   ]
  },
  {
   "cell_type": "markdown",
   "id": "ef1eb256",
   "metadata": {},
   "source": [
    "## 9. What data structure does a shelf value resemble?\n"
   ]
  },
  {
   "cell_type": "markdown",
   "id": "4b96480f",
   "metadata": {},
   "source": [
    "### Answer 9:\n",
    "\n",
    "Shelf value resembles dictionary and contains key."
   ]
  }
 ],
 "metadata": {
  "kernelspec": {
   "display_name": "Python 3 (ipykernel)",
   "language": "python",
   "name": "python3"
  },
  "language_info": {
   "codemirror_mode": {
    "name": "ipython",
    "version": 3
   },
   "file_extension": ".py",
   "mimetype": "text/x-python",
   "name": "python",
   "nbconvert_exporter": "python",
   "pygments_lexer": "ipython3",
   "version": "3.9.7"
  }
 },
 "nbformat": 4,
 "nbformat_minor": 5
}
