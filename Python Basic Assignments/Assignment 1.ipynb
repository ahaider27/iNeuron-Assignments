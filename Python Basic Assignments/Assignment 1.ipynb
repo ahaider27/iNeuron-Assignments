{
 "cells": [
  {
   "cell_type": "markdown",
   "id": "cda85854",
   "metadata": {},
   "source": [
    "# 1. In the below elements which of them are values or an expression? eg:- values can be integer or string and expressions will be mathematical operators.\n",
    "* 'hello'\n",
    "\n",
    "-87.8\n",
    "/ + 6"
   ]
  },
  {
   "cell_type": "markdown",
   "id": "9d75fc3f",
   "metadata": {},
   "source": [
    "### Answer 1:\n",
    "\n",
    "The elements which are values: *, -, /, +\n",
    "\n",
    "The elements which are expressions: 'hello', 87.8, 6"
   ]
  },
  {
   "cell_type": "markdown",
   "id": "6e7195c0",
   "metadata": {},
   "source": [
    "## 2. What is the difference between string and variable?\n"
   ]
  },
  {
   "cell_type": "markdown",
   "id": "669d39a4",
   "metadata": {},
   "source": [
    "### Answer 2:\n",
    "\n",
    "STRING is a sequence of unicode characters, also referred to as immutable sequence of data type.\n",
    "\n",
    "VARIABLE is used to store values, specific reserved memory location is used and this is known as Variable.\n",
    "\n"
   ]
  },
  {
   "cell_type": "markdown",
   "id": "d2386298",
   "metadata": {},
   "source": [
    "## 3. Describe three different data types.\n"
   ]
  },
  {
   "cell_type": "markdown",
   "id": "3a7f1e15",
   "metadata": {},
   "source": [
    "### Answer 3:\n",
    "\n",
    "DATA TYPES - It is a classification which specifies the type of value a variable has and what type of operation can be applied to it. Data types are of five types, i.e, String, Integer, Float, Character, Boolean. Three of them are described below:\n",
    "\n",
    "1. Integer - These are used for representing whole numbers.\n",
    "2. Float - These are used for representing numbers with decimal point.\n",
    "3. Boolean - These are used for representing logical values."
   ]
  },
  {
   "cell_type": "markdown",
   "id": "90aa8ebb",
   "metadata": {},
   "source": [
    "## 4. What is an expression made up of? What do all expressions do?\n"
   ]
  },
  {
   "cell_type": "markdown",
   "id": "8e9141fb",
   "metadata": {},
   "source": [
    "### Answer 4:\n",
    "\n",
    "An expression is made up of variables, operators and operands. It evaluates the result down to a single value.\n",
    "\n",
    "Example -- evaluating the expression's value to 50"
   ]
  },
  {
   "cell_type": "code",
   "execution_count": 2,
   "id": "d014c4a8",
   "metadata": {},
   "outputs": [
    {
     "data": {
      "text/plain": [
       "50"
      ]
     },
     "execution_count": 2,
     "metadata": {},
     "output_type": "execute_result"
    }
   ],
   "source": [
    "20 * 5 - 50"
   ]
  },
  {
   "cell_type": "markdown",
   "id": "fc07a215",
   "metadata": {},
   "source": [
    "## 5. This assignment statements, like spam = 10. What is the difference between an expression and a statement?\n"
   ]
  },
  {
   "cell_type": "markdown",
   "id": "f7dadd4f",
   "metadata": {},
   "source": [
    "### Answer 5:\n",
    "\n",
    "EXPRESSION - It is a combination of variables, operations and values that returns a result value.\n",
    "\n",
    "STATEMENT - This makes up a line of Python code, it may or may not give a specific values rather it will perform the function mentioned in statement.\n",
    "\n",
    "Examples are given below:"
   ]
  },
  {
   "cell_type": "code",
   "execution_count": 6,
   "id": "3f3bc9c2",
   "metadata": {},
   "outputs": [
    {
     "name": "stdout",
     "output_type": "stream",
     "text": [
      "iNeuron is the best\n"
     ]
    }
   ],
   "source": [
    "6-9+5*7/2 # This is an expression\n",
    "\n",
    "FirstName = 'My Name is Abu Haider' # This is a statement\n",
    "\n",
    "print(\"iNeuron is the best\") # This is an Expression Statement"
   ]
  },
  {
   "cell_type": "markdown",
   "id": "8dc36a07",
   "metadata": {},
   "source": [
    "## 6. After running the following code, what does the variable bacon contain?\n",
    "bacon = 22\n",
    "\n",
    "bacon + 1\n",
    "\n"
   ]
  },
  {
   "cell_type": "markdown",
   "id": "9a097178",
   "metadata": {},
   "source": [
    "### Answer 6:\n",
    "\n",
    "bacon 22 is the variable and bacon+1 is the expression and it does not reassign the value in bacon. The two cases arise in the above question which are as follows:"
   ]
  },
  {
   "cell_type": "code",
   "execution_count": 8,
   "id": "3a4e463a",
   "metadata": {},
   "outputs": [
    {
     "name": "stdout",
     "output_type": "stream",
     "text": [
      "22\n"
     ]
    }
   ],
   "source": [
    "# Case 1:\n",
    "\n",
    "bacon = 22\n",
    "bacon+1\n",
    "\n",
    "print(bacon)"
   ]
  },
  {
   "cell_type": "code",
   "execution_count": 9,
   "id": "f6474976",
   "metadata": {},
   "outputs": [
    {
     "name": "stdout",
     "output_type": "stream",
     "text": [
      "23\n"
     ]
    }
   ],
   "source": [
    "# Case 2:\n",
    "\n",
    "bacon = 22\n",
    "bacon = bacon+1\n",
    "\n",
    "print(bacon)"
   ]
  },
  {
   "cell_type": "markdown",
   "id": "c8269818",
   "metadata": {},
   "source": [
    "## 7. What should the values of the following two terms be?\n",
    "'spam' + 'spamspam'\n",
    "\n",
    "'spam' * 3\n"
   ]
  },
  {
   "cell_type": "markdown",
   "id": "e4c8bc76",
   "metadata": {},
   "source": [
    "### Answer 7:\n",
    "\n",
    "The first expression 'spam' follows String Concatenation and the second expression follows String Multiplication. So, both of these evaluate expressions to string 'spamspamspam'."
   ]
  },
  {
   "cell_type": "code",
   "execution_count": 10,
   "id": "15324aae",
   "metadata": {},
   "outputs": [
    {
     "name": "stdout",
     "output_type": "stream",
     "text": [
      "spamspamspam\n",
      "spamspamspam\n"
     ]
    }
   ],
   "source": [
    "# String concatenation\n",
    "print('spam'+'spamspam')\n",
    "\n",
    "# String multiplication\n",
    "print('spam'*3) "
   ]
  },
  {
   "cell_type": "markdown",
   "id": "f978e7fc",
   "metadata": {},
   "source": [
    "## 8. Why is eggs a valid variable name while 100 is invalid?\n"
   ]
  },
  {
   "cell_type": "markdown",
   "id": "414fb60c",
   "metadata": {},
   "source": [
    "### Answer 8:\n",
    "\n",
    "Variables in python cannot begin with a number and this is the reason why 100 is an invalid variable. The rules for naming a variable in Python are written below:\n",
    "\n",
    "1. Variable name must start with a letter or the underscore character.\n",
    "2. Variable name cannot start with a number.\n",
    "3. Variable name can only contain alpha-numeric characters and underscores (A-z, 0-9, & _ ).\n",
    "4. Variable names are case-sensitive (name, HULK and hulk are three different variables).\n",
    "5. The reserved words(keywords) cannot be used naming the variable."
   ]
  },
  {
   "cell_type": "markdown",
   "id": "b9d69780",
   "metadata": {},
   "source": [
    "## 9. What three functions can be used to get the integer, floating-point number, or string version of a value?\n"
   ]
  },
  {
   "cell_type": "markdown",
   "id": "3116ab2c",
   "metadata": {},
   "source": [
    "### Answer 9:\n",
    "\n",
    "The three functions which can be used to get the integer, floating-point number, or string version of a value are:\n",
    "\n",
    "1. int()\n",
    "2. float()\n",
    "3. str()\n",
    "\n",
    "Examples of the same are given below:"
   ]
  },
  {
   "cell_type": "code",
   "execution_count": 11,
   "id": "82b13549",
   "metadata": {},
   "outputs": [
    {
     "name": "stdout",
     "output_type": "stream",
     "text": [
      "int(4.5) -->  4\n",
      "float(4.5) -->  4.5\n",
      "str(4.5) -->  4.5\n"
     ]
    }
   ],
   "source": [
    "print('int(4.5) --> ',int(4.5)) # int() function converts given input to int\n",
    "print('float(4.5) --> ',float(4.5)) # float() function converts given input to float\n",
    "print('str(4.5) --> ',str(4.5)) # str() function converts given input to string"
   ]
  },
  {
   "cell_type": "markdown",
   "id": "2586a529",
   "metadata": {},
   "source": [
    "## 10. Why does this expression cause an error? How can you fix it?\n",
    "'I have eaten ' + 99 + ' burritos.'\n",
    "\n",
    "\n"
   ]
  },
  {
   "cell_type": "markdown",
   "id": "51c2a506",
   "metadata": {},
   "source": [
    "### Answer 10:\n",
    "\n",
    "The expression 99 causes an error because it is not a string. Typecasting of 99 as a string will fix this error. So, the correct way would be:"
   ]
  },
  {
   "cell_type": "code",
   "execution_count": 13,
   "id": "f05418c5",
   "metadata": {},
   "outputs": [
    {
     "name": "stdout",
     "output_type": "stream",
     "text": [
      "I have eaten 99 burritos\n"
     ]
    }
   ],
   "source": [
    "'I have eaten ' + str(99) + 'burritos'\n",
    "\n",
    "print('I have eaten '+str(99)+' burritos')"
   ]
  },
  {
   "cell_type": "code",
   "execution_count": null,
   "id": "3c6256c1",
   "metadata": {},
   "outputs": [],
   "source": []
  }
 ],
 "metadata": {
  "kernelspec": {
   "display_name": "Python 3 (ipykernel)",
   "language": "python",
   "name": "python3"
  },
  "language_info": {
   "codemirror_mode": {
    "name": "ipython",
    "version": 3
   },
   "file_extension": ".py",
   "mimetype": "text/x-python",
   "name": "python",
   "nbconvert_exporter": "python",
   "pygments_lexer": "ipython3",
   "version": "3.9.7"
  }
 },
 "nbformat": 4,
 "nbformat_minor": 5
}
