{
 "cells": [
  {
   "cell_type": "markdown",
   "id": "ed046d23",
   "metadata": {},
   "source": [
    "## 1. Create a list called years_list, starting with the year of your birth, and each year thereafter until the year of your fifth birthday. For example, if you were born in 1980. the list would be years_list = [1980, 1981, 1982, 1983, 1984, 1985]."
   ]
  },
  {
   "cell_type": "code",
   "execution_count": 3,
   "id": "06987dd1",
   "metadata": {},
   "outputs": [
    {
     "name": "stdout",
     "output_type": "stream",
     "text": [
      "[1997, 1998, 1999, 2000, 2001, 2002]\n"
     ]
    }
   ],
   "source": [
    "years_list = [ele for ele in range (1997, 1997+6)]\n",
    "print(years_list)"
   ]
  },
  {
   "cell_type": "markdown",
   "id": "0b3f76aa",
   "metadata": {},
   "source": [
    "## 2. In which year in years_list was your third birthday? Remember, you were 0 years of age for your first year."
   ]
  },
  {
   "cell_type": "code",
   "execution_count": 4,
   "id": "ee986ef0",
   "metadata": {},
   "outputs": [
    {
     "name": "stdout",
     "output_type": "stream",
     "text": [
      "2000\n"
     ]
    }
   ],
   "source": [
    "print(years_list[3])"
   ]
  },
  {
   "cell_type": "markdown",
   "id": "cc43d5f6",
   "metadata": {},
   "source": [
    "## 3.In the years list, which year were you the oldest?"
   ]
  },
  {
   "cell_type": "code",
   "execution_count": 5,
   "id": "91f6c239",
   "metadata": {},
   "outputs": [
    {
     "name": "stdout",
     "output_type": "stream",
     "text": [
      "2002\n"
     ]
    }
   ],
   "source": [
    "print(years_list[-1])"
   ]
  },
  {
   "cell_type": "markdown",
   "id": "8f6a29c5",
   "metadata": {},
   "source": [
    "## 4. Make a list called things with these three strings as elements: \"mozzarella\", \"cinderella\", \"salmonella\"."
   ]
  },
  {
   "cell_type": "code",
   "execution_count": 6,
   "id": "8761c63b",
   "metadata": {},
   "outputs": [
    {
     "name": "stdout",
     "output_type": "stream",
     "text": [
      "['mozzarella', 'cinderella', 'salmonella']\n"
     ]
    }
   ],
   "source": [
    "things = [ele+'ella' for ele in ['mozzar','cinder','salmon']]\n",
    "print(things)"
   ]
  },
  {
   "cell_type": "markdown",
   "id": "7fa10598",
   "metadata": {},
   "source": [
    "## 5. Capitalize the element in things that refers to a person and then print the list. Did it change the element in the list?"
   ]
  },
  {
   "cell_type": "code",
   "execution_count": 8,
   "id": "db176fbf",
   "metadata": {},
   "outputs": [
    {
     "name": "stdout",
     "output_type": "stream",
     "text": [
      "['mozzarella', 'Cinderella', 'salmonella']\n"
     ]
    }
   ],
   "source": [
    "for ele in range(len(things)):\n",
    "    if things[ele] == 'cinderella':\n",
    "        things[ele] = things[ele].capitalize()\n",
    "print(things)"
   ]
  },
  {
   "cell_type": "markdown",
   "id": "1307070a",
   "metadata": {},
   "source": [
    "## 6. Make a surprise list with the elements \"Groucho,\" \"Chico,\" and \"Harpo.\""
   ]
  },
  {
   "cell_type": "code",
   "execution_count": 9,
   "id": "90ce2174",
   "metadata": {},
   "outputs": [
    {
     "name": "stdout",
     "output_type": "stream",
     "text": [
      "['Groucho', 'Chico', 'Harpo']\n"
     ]
    }
   ],
   "source": [
    "surprise_list = ['Groucho', 'Chico', 'Harpo']\n",
    "print(surprise_list)"
   ]
  },
  {
   "cell_type": "markdown",
   "id": "9cbeefe4",
   "metadata": {},
   "source": [
    "## 7. Lowercase the last element of the surprise list, reverse it, and then capitalize it."
   ]
  },
  {
   "cell_type": "code",
   "execution_count": 11,
   "id": "d6ef0e47",
   "metadata": {},
   "outputs": [
    {
     "name": "stdout",
     "output_type": "stream",
     "text": [
      "Oprah\n"
     ]
    }
   ],
   "source": [
    "print(surprise_list[-1].lower()[::-1].capitalize())"
   ]
  },
  {
   "cell_type": "markdown",
   "id": "9d770626",
   "metadata": {},
   "source": [
    "## 8. Make an English-to-French dictionary called e2f and print it. Here are your starter words: dog is chien, cat is chat, and walrus is morse."
   ]
  },
  {
   "cell_type": "code",
   "execution_count": 12,
   "id": "1cf9dcbf",
   "metadata": {},
   "outputs": [
    {
     "name": "stdout",
     "output_type": "stream",
     "text": [
      "{'dog': 'chien', 'cat': 'chat', 'walrus': 'morse'}\n"
     ]
    }
   ],
   "source": [
    "e2f = {'dog':'chien', 'cat':'chat', 'walrus':'morse'}\n",
    "print(e2f)"
   ]
  },
  {
   "cell_type": "markdown",
   "id": "b2e7de5d",
   "metadata": {},
   "source": [
    "## 9. Write the French word for walrus in your three-word dictionary e2f."
   ]
  },
  {
   "cell_type": "code",
   "execution_count": 13,
   "id": "72602578",
   "metadata": {},
   "outputs": [
    {
     "name": "stdout",
     "output_type": "stream",
     "text": [
      "morse\n"
     ]
    }
   ],
   "source": [
    "print(e2f.get('walrus'))"
   ]
  },
  {
   "cell_type": "markdown",
   "id": "7fd0fc9e",
   "metadata": {},
   "source": [
    "## 10. Make a French-to-English dictionary called f2e from e2f. Use the items method."
   ]
  },
  {
   "cell_type": "code",
   "execution_count": 14,
   "id": "09facd79",
   "metadata": {},
   "outputs": [
    {
     "name": "stdout",
     "output_type": "stream",
     "text": [
      "{'chien': 'dog', 'chat': 'cat', 'morse': 'walrus'}\n"
     ]
    }
   ],
   "source": [
    "f2e = dict([ele[::-1] for ele in e2f.items()])\n",
    "print(f2e)"
   ]
  },
  {
   "cell_type": "markdown",
   "id": "0532284a",
   "metadata": {},
   "source": [
    "## 11. Print the English version of the French word chien using f2e."
   ]
  },
  {
   "cell_type": "code",
   "execution_count": 15,
   "id": "c5d7cf31",
   "metadata": {},
   "outputs": [
    {
     "name": "stdout",
     "output_type": "stream",
     "text": [
      "dog\n"
     ]
    }
   ],
   "source": [
    "print(f2e.get('chien'))"
   ]
  },
  {
   "cell_type": "markdown",
   "id": "eb1f77df",
   "metadata": {},
   "source": [
    "## 12. Make and print a set of English words from the keys in e2f."
   ]
  },
  {
   "cell_type": "code",
   "execution_count": 16,
   "id": "abe2d5fe",
   "metadata": {},
   "outputs": [
    {
     "name": "stdout",
     "output_type": "stream",
     "text": [
      "['dog', 'cat', 'walrus']\n"
     ]
    }
   ],
   "source": [
    "print(list(e2f.keys()))"
   ]
  },
  {
   "cell_type": "markdown",
   "id": "d4835226",
   "metadata": {},
   "source": [
    "## 13. Make a multilevel dictionary called life. Use these strings for the topmost keys: 'animals', 'plants', and 'other'. Make the 'animals' key refer to another dictionary with the keys 'cats', 'octopi', and 'emus'. Make the 'cats' key refer to a list of strings with the values 'Henri', 'Grumpy', and 'Lucy'. Make all the other keys refer to empty dictionaries.\n"
   ]
  },
  {
   "cell_type": "code",
   "execution_count": 18,
   "id": "cdd4bba7",
   "metadata": {},
   "outputs": [
    {
     "name": "stdout",
     "output_type": "stream",
     "text": [
      "{'animals': {'cats': ['Henri', 'Grumpy', 'Lucy'], 'octopi': {}, 'emus': {}}, 'plants': {}, 'other': {}}\n"
     ]
    }
   ],
   "source": [
    "life = {\n",
    "    'animals':{\n",
    "        'cats':['Henri', 'Grumpy', 'Lucy'],\n",
    "        'octopi':{},\n",
    "        'emus':{}\n",
    "    },\n",
    "    'plants':{},\n",
    "    'other':{}\n",
    "}\n",
    "print(life)"
   ]
  },
  {
   "cell_type": "markdown",
   "id": "88438690",
   "metadata": {},
   "source": [
    "## 14. Print the top-level keys of life."
   ]
  },
  {
   "cell_type": "code",
   "execution_count": 19,
   "id": "acf9d0ab",
   "metadata": {},
   "outputs": [
    {
     "name": "stdout",
     "output_type": "stream",
     "text": [
      "['animals', 'plants', 'other']\n"
     ]
    }
   ],
   "source": [
    "print(list(life.keys()))"
   ]
  },
  {
   "cell_type": "markdown",
   "id": "9628f7bc",
   "metadata": {},
   "source": [
    "## 15. Print the keys for life['animals']."
   ]
  },
  {
   "cell_type": "code",
   "execution_count": 20,
   "id": "83b1a1b2",
   "metadata": {},
   "outputs": [
    {
     "name": "stdout",
     "output_type": "stream",
     "text": [
      "['cats', 'octopi', 'emus']\n"
     ]
    }
   ],
   "source": [
    "print(list(life['animals'].keys()))"
   ]
  },
  {
   "cell_type": "markdown",
   "id": "c053bf99",
   "metadata": {},
   "source": [
    "## 16. Print the values for life['animals']['cats']"
   ]
  },
  {
   "cell_type": "code",
   "execution_count": 21,
   "id": "997aa6f6",
   "metadata": {},
   "outputs": [
    {
     "name": "stdout",
     "output_type": "stream",
     "text": [
      "['Henri', 'Grumpy', 'Lucy']\n"
     ]
    }
   ],
   "source": [
    "print(life['animals']['cats'])"
   ]
  }
 ],
 "metadata": {
  "kernelspec": {
   "display_name": "Python 3",
   "language": "python",
   "name": "python3"
  },
  "language_info": {
   "codemirror_mode": {
    "name": "ipython",
    "version": 3
   },
   "file_extension": ".py",
   "mimetype": "text/x-python",
   "name": "python",
   "nbconvert_exporter": "python",
   "pygments_lexer": "ipython3",
   "version": "3.8.8"
  }
 },
 "nbformat": 4,
 "nbformat_minor": 5
}
